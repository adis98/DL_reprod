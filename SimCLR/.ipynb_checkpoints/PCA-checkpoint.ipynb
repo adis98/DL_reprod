{
 "cells": [
  {
   "cell_type": "code",
   "execution_count": 42,
   "id": "c3fd2b44",
   "metadata": {},
   "outputs": [],
   "source": [
    "import sys\n",
    "import argparse\n",
    "import torch\n",
    "from torchvision import models\n",
    "import torch.backends.cudnn as cudnn\n",
    "from data_aug.contrastive_learning_dataset import ContrastiveLearningDataset\n",
    "from models.resnet_simclr import ResNetSimCLR\n",
    "import models.resnet_wider as res\n",
    "from simclr import SimCLR\n",
    "import os\n",
    "from sklearn.decomposition import PCA\n",
    "import matplotlib.pyplot as plt\n",
    "\n",
    "\n"
   ]
  },
  {
   "cell_type": "code",
   "execution_count": 16,
   "id": "d8836dea",
   "metadata": {},
   "outputs": [],
   "source": [
    "args ={\n",
    "\"data\" : \"./datasets\",\n",
    "\"dataset_name\" : \"cifar10\",\n",
    "\"n_views\" : 2,\n",
    "\"batch_size\" : 256,\n",
    "\"workers\" : 12,\n",
    "\"out_dim\" : 128,\n",
    "\"arch\" : \"resnet18\",\n",
    "\"weight_decay\":1e-4,\n",
    "\"lr\":0.0003,\n",
    "\"device\":torch.device('cpu'),\n",
    "\"fp16_precision\":False,\n",
    "\"temperature\":0.07,\n",
    "\"epochs\":1,\n",
    "\"disable_cuda\":True\n",
    "}"
   ]
  },
  {
   "cell_type": "code",
   "execution_count": 4,
   "id": "e5d65423",
   "metadata": {},
   "outputs": [],
   "source": [
    "rasnet_18_ckp_path = 'C:/Users/Pietro/Documents/DELFT/courses/DL/DL_reprod/checkpoints/checkpoint_0050.pth.tar'\n",
    "resnet_50_1x_ckp_path = 'C:/Users/Pietro/Documents/DELFT/courses/DL/DL_reprod/checkpoints/resnet_50_1x.pth'\n",
    "resnet_50_4x_ckp_path = 'C:/Users/Pietro/Documents/DELFT/courses/DL/DL_reprod/checkpoints/resnet_50_4x.pth'"
   ]
  },
  {
   "cell_type": "code",
   "execution_count": 5,
   "id": "6c573136",
   "metadata": {},
   "outputs": [
    {
     "name": "stdout",
     "output_type": "stream",
     "text": [
      "Files already downloaded and verified\n"
     ]
    }
   ],
   "source": [
    "dataset = ContrastiveLearningDataset(args[\"data\"])\n",
    "train_dataset = dataset.get_dataset(args[\"dataset_name\"], args[\"n_views\"])\n",
    "train_loader = torch.utils.data.DataLoader(train_dataset, batch_size=args[\"batch_size\"], shuffle=True,num_workers=args[\"workers\"], pin_memory=True, drop_last=True)"
   ]
  },
  {
   "cell_type": "code",
   "execution_count": 22,
   "id": "cf5e3492",
   "metadata": {},
   "outputs": [],
   "source": [
    "resnet18 = ResNetSimCLR(base_model=args[\"arch\"], out_dim=args[\"out_dim\"]) \n",
    "resnet50x4 = res.resnet50x4()\n",
    "resnet50x1 = res.resnet50x1()"
   ]
  },
  {
   "cell_type": "code",
   "execution_count": 25,
   "id": "0aea1175",
   "metadata": {},
   "outputs": [],
   "source": [
    "sd_R18 = torch.load(rasnet_18_ckp_path, map_location='cpu')\n",
    "resnet18.load_state_dict(sd_R18['state_dict'])\n",
    "optimizer_R18 = torch.optim.Adam(resnet18.parameters(), args[\"lr\"], weight_decay=args[\"weight_decay\"])\n",
    "scheduler_R18 = torch.optim.lr_scheduler.CosineAnnealingLR(optimizer, T_max=len(train_loader), eta_min=0,last_epoch=-1)\n",
    "##\n",
    "sd_R50x4 = torch.load(resnet_50_4x_ckp_path, map_location='cpu')\n",
    "resnet50x4.load_state_dict(sd_R50x4['state_dict'])\n",
    "optimizer_R50x4 = torch.optim.Adam(resnet50x4.parameters(), args[\"lr\"], weight_decay=args[\"weight_decay\"])\n",
    "scheduler_R50x4 = torch.optim.lr_scheduler.CosineAnnealingLR(optimizer, T_max=len(train_loader), eta_min=0,last_epoch=-1)\n",
    "##\n",
    "sd_R50x1 = torch.load(resnet_50_1x_ckp_path, map_location='cpu')\n",
    "resnet50x1.load_state_dict(sd_R50x1['state_dict'])\n",
    "optimizer_R50x1 = torch.optim.Adam(resnet50x1.parameters(), args[\"lr\"], weight_decay=args[\"weight_decay\"])\n",
    "scheduler_R50x1 = torch.optim.lr_scheduler.CosineAnnealingLR(optimizer, T_max=len(train_loader), eta_min=0,last_epoch=-1)"
   ]
  },
  {
   "cell_type": "code",
   "execution_count": 26,
   "id": "7728a365",
   "metadata": {},
   "outputs": [
    {
     "name": "stderr",
     "output_type": "stream",
     "text": [
      "  2%|█▋                                                                                | 4/195 [00:47<37:52, 11.90s/it]\n",
      "  2%|█▋                                                                                | 4/195 [00:55<44:32, 13.99s/it]\n",
      "  2%|█▋                                                                              | 4/195 [02:25<1:56:08, 36.48s/it]\n"
     ]
    }
   ],
   "source": [
    "features = []\n",
    "with torch.cuda.device(-1):\n",
    "        simclr = SimCLR(model=resnet18, optimizer=optimizer, scheduler=scheduler, args=args)\n",
    "        features.append(simclr.train(train_loader))\n",
    "        ##\n",
    "        simclr = SimCLR(model=resnet50x1, optimizer=optimizer, scheduler=scheduler, args=args)\n",
    "        features.append(simclr.train(train_loader))\n",
    "        ##\n",
    "        simclr = SimCLR(model=resnet50x4, optimizer=optimizer, scheduler=scheduler, args=args)\n",
    "        features.append(simclr.train(train_loader))"
   ]
  },
  {
   "cell_type": "code",
   "execution_count": 29,
   "id": "24dc23e4",
   "metadata": {},
   "outputs": [],
   "source": [
    "colors = ['blue','orange','green','red','purple','brown','pink','gray','olive','cyan']\n",
    "pca = PCA(n_components=3)\n",
    "PCAs = []\n",
    "infolosses = []"
   ]
  },
  {
   "cell_type": "code",
   "execution_count": 37,
   "id": "535a3147",
   "metadata": {},
   "outputs": [],
   "source": [
    "for model_features in features:\n",
    "    pca = PCA(n_components=3)\n",
    "    temp_pca = pca.fit_transform(model_features)\n",
    "    PCAs.append(temp_pca)\n",
    "    infolosses.append(pca.explained_variance_ratio_)"
   ]
  },
  {
   "cell_type": "code",
   "execution_count": 65,
   "id": "0303081e",
   "metadata": {},
   "outputs": [
    {
     "data": {
      "image/png": "[encoded data removed]",
      "text/plain": [
       "<Figure size 432x288 with 1 Axes>"
      ]
     },
     "metadata": {
      "needs_background": "light"
     },
     "output_type": "display_data"
    }
   ],
   "source": [
    "labels = ['Resnet18', 'Resnet50x1', 'Resnet50x4']\n",
    "width = 0.35\n",
    "\n",
    "pca1 = [x[0] for x in  infolosses]\n",
    "pca2 = [x[1] for x in  infolosses]\n",
    "pca3 = [x[2] for x in  infolosses]\n",
    "\n",
    "infoloss = [1-sum(pca1),1-sum(pca2),1-sum(pca3)]\n",
    "\n",
    "\n",
    "fig, ax = plt.subplots()\n",
    "\n",
    "ax.bar(labels, pca1, width,label='1st PC')\n",
    "ax.bar(labels, pca2, width, label='2nd PC')\n",
    "ax.bar(labels, pca3, width, label='3rd PC')\n",
    "\n",
    "\n",
    "ax.set_ylabel('Explained Variance')\n",
    "ax.set_title('Principal Components Information Loss')\n",
    "ax.legend()\n",
    "\n",
    "plt.show()"
   ]
  },
  {
   "cell_type": "code",
   "execution_count": 61,
   "id": "012f5939",
   "metadata": {},
   "outputs": [
    {
     "data": {
      "text/plain": [
       "[0.046180047, 0.11282569, 0.1543705]"
      ]
     },
     "execution_count": 61,
     "metadata": {},
     "output_type": "execute_result"
    }
   ],
   "source": [
    "pca1"
   ]
  },
  {
   "cell_type": "code",
   "execution_count": 64,
   "id": "4cb5f9d4",
   "metadata": {},
   "outputs": [
    {
     "data": {
      "text/plain": [
       "[0.6866237595677376, 0.8262949101626873, 0.879097156226635]"
      ]
     },
     "execution_count": 64,
     "metadata": {},
     "output_type": "execute_result"
    }
   ],
   "source": [
    "infoloss"
   ]
  },
  {
   "cell_type": "code",
   "execution_count": null,
   "id": "274b8779",
   "metadata": {},
   "outputs": [],
   "source": []
  }
 ],
 "metadata": {
  "kernelspec": {
   "display_name": "Python 3 (ipykernel)",
   "language": "python",
   "name": "python3"
  },
  "language_info": {
   "codemirror_mode": {
    "name": "ipython",
    "version": 3
   },
   "file_extension": ".py",
   "mimetype": "text/x-python",
   "name": "python",
   "nbconvert_exporter": "python",
   "pygments_lexer": "ipython3",
   "version": "3.9.7"
  }
 },
 "nbformat": 4,
 "nbformat_minor": 5
}
