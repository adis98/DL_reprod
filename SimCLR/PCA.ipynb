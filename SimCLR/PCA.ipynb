{
 "cells": [
  {
   "cell_type": "code",
   "execution_count": 105,
   "id": "c3fd2b44",
   "metadata": {},
   "outputs": [],
   "source": [
    "import sys\n",
    "import argparse\n",
    "import torch\n",
    "from torchvision import models\n",
    "import torch.backends.cudnn as cudnn\n",
    "from data_aug.contrastive_learning_dataset import ContrastiveLearningDataset\n",
    "from models.resnet_simclr import ResNetSimCLR\n",
    "import models.resnet_wider as res\n",
    "from simclr import SimCLR\n",
    "import os\n",
    "from sklearn.decomposition import PCA\n",
    "import matplotlib.pyplot as plt\n",
    "import torch.nn as nn\n",
    "\n",
    "\n",
    "\n"
   ]
  },
  {
   "cell_type": "code",
   "execution_count": 16,
   "id": "d8836dea",
   "metadata": {},
   "outputs": [],
   "source": [
    "args ={\n",
    "\"data\" : \"./datasets\",\n",
    "\"dataset_name\" : \"cifar10\",\n",
    "\"n_views\" : 2,\n",
    "\"batch_size\" : 256,\n",
    "\"workers\" : 12,\n",
    "\"out_dim\" : 128,\n",
    "\"arch\" : \"resnet18\",\n",
    "\"weight_decay\":1e-4,\n",
    "\"lr\":0.0003,\n",
    "\"device\":torch.device('cpu'),\n",
    "\"fp16_precision\":False,\n",
    "\"temperature\":0.07,\n",
    "\"epochs\":1,\n",
    "\"disable_cuda\":True\n",
    "}"
   ]
  },
  {
   "cell_type": "code",
   "execution_count": 79,
   "id": "e5d65423",
   "metadata": {},
   "outputs": [],
   "source": [
    "rasnet_18_ckp_path = 'C:/Users/Pietro/Documents/DELFT/courses/DL/DL_reprod/checkpoints/checkpoint_0050.pth.tar'\n",
    "resnet_50_1x_ckp_path = 'C:/Users/Pietro/Documents/DELFT/courses/DL/DL_reprod/checkpoints/resnet_50_1x.pth'\n",
    "resnet_50_4x_ckp_path = 'C:/Users/Pietro/Documents/DELFT/courses/DL/DL_reprod/checkpoints/resnet_50_4x.pth'\n",
    "resnet_50_fine_tuned = 'C:/Users/Pietro/Documents/DELFT/courses/DL/DL_reprod/checkpoints/checkpoint_0050_FT.pth.tar'"
   ]
  },
  {
   "cell_type": "code",
   "execution_count": 80,
   "id": "6c573136",
   "metadata": {},
   "outputs": [
    {
     "name": "stdout",
     "output_type": "stream",
     "text": [
      "Files already downloaded and verified\n"
     ]
    }
   ],
   "source": [
    "dataset = ContrastiveLearningDataset(args[\"data\"])\n",
    "train_dataset = dataset.get_dataset(args[\"dataset_name\"], args[\"n_views\"])\n",
    "train_loader = torch.utils.data.DataLoader(train_dataset, batch_size=args[\"batch_size\"], shuffle=True,num_workers=args[\"workers\"], pin_memory=True, drop_last=True)"
   ]
  },
  {
   "cell_type": "code",
   "execution_count": 111,
   "id": "cf5e3492",
   "metadata": {},
   "outputs": [],
   "source": [
    "resnet18 = ResNetSimCLR(base_model=args[\"arch\"], out_dim=args[\"out_dim\"]) \n",
    "resnet50x4 = res.resnet50x4()\n",
    "resnet50x1 = res.resnet50x1()\n",
    "resnet50x1_FT = res.resnet50x1()\n"
   ]
  },
  {
   "cell_type": "code",
   "execution_count": 113,
   "id": "0aea1175",
   "metadata": {},
   "outputs": [
    {
     "name": "stdout",
     "output_type": "stream",
     "text": [
      "dict_keys(['epoch', 'arch', 'state_dict', 'optimizer'])\n",
      "dict_keys(['state_dict'])\n",
      "dict_keys(['epoch', 'arch', 'state_dict', 'optimizer'])\n"
     ]
    }
   ],
   "source": [
    "sd_R18 = torch.load(rasnet_18_ckp_path, map_location='cpu')\n",
    "print(sd_R18.keys())\n",
    "resnet18.load_state_dict(sd_R18['state_dict'])\n",
    "optimizer_R18 = torch.optim.Adam(resnet18.parameters(), args[\"lr\"], weight_decay=args[\"weight_decay\"])\n",
    "scheduler_R18 = torch.optim.lr_scheduler.CosineAnnealingLR(optimizer_R18, T_max=len(train_loader), eta_min=0,last_epoch=-1)\n",
    "##\n",
    "sd_R50x4 = torch.load(resnet_50_4x_ckp_path, map_location='cpu')\n",
    "resnet50x4.load_state_dict(sd_R50x4['state_dict'])\n",
    "optimizer_R50x4 = torch.optim.Adam(resnet50x4.parameters(), args[\"lr\"], weight_decay=args[\"weight_decay\"])\n",
    "scheduler_R50x4 = torch.optim.lr_scheduler.CosineAnnealingLR(optimizer_R50x4, T_max=len(train_loader), eta_min=0,last_epoch=-1)\n",
    "##\n",
    "sd_R50x1 = torch.load(resnet_50_1x_ckp_path, map_location='cpu')\n",
    "print(sd_R50x1.keys())\n",
    "resnet50x1.load_state_dict(sd_R50x1['state_dict'])\n",
    "optimizer_R50x1 = torch.optim.Adam(resnet50x1.parameters(), args[\"lr\"], weight_decay=args[\"weight_decay\"])\n",
    "scheduler_R50x1 = torch.optim.lr_scheduler.CosineAnnealingLR(optimizer_R50x1, T_max=len(train_loader), eta_min=0,last_epoch=-1)\n",
    "##\n",
    "\n",
    "sd_R50x1_FT = torch.load(resnet_50_fine_tuned, map_location='cpu')\n",
    "resnet50x1_FT.fc = nn.Sequential(resnet50x1_FT.fc,nn.ReLU(),nn.Linear(1000,128))\n",
    "\n",
    "print(sd_R50x1_FT.keys())\n",
    "resnet50x1_FT.load_state_dict(sd_R50x1_FT['state_dict'])\n",
    "optimizer_R50x1_FT = torch.optim.Adam(resnet50x1.parameters(), args[\"lr\"], weight_decay=args[\"weight_decay\"])\n",
    "scheduler_R50x1_FT = torch.optim.lr_scheduler.CosineAnnealingLR(optimizer_R50x1_FT, T_max=len(train_loader), eta_min=0,last_epoch=-1)"
   ]
  },
  {
   "cell_type": "code",
   "execution_count": 114,
   "id": "7728a365",
   "metadata": {},
   "outputs": [
    {
     "name": "stderr",
     "output_type": "stream",
     "text": [
      "  2%|█▋                                                                                | 4/195 [00:36<29:17,  9.20s/it]\n",
      "  2%|█▋                                                                                | 4/195 [00:52<41:48, 13.13s/it]\n",
      "  2%|█▋                                                                              | 4/195 [02:06<1:40:58, 31.72s/it]\n",
      "  3%|██                                                                                | 5/195 [01:05<41:28, 13.10s/it]\n"
     ]
    }
   ],
   "source": [
    "features = []\n",
    "with torch.cuda.device(-1):\n",
    "        simclr = SimCLR(model=resnet18, optimizer=optimizer_R18, scheduler=scheduler_R18, args=args)\n",
    "        features.append(simclr.train(train_loader))\n",
    "        ##\n",
    "        simclr = SimCLR(model=resnet50x1, optimizer=optimizer_R50x4, scheduler=scheduler_R50x4, args=args)\n",
    "        features.append(simclr.train(train_loader))\n",
    "        ##\n",
    "        simclr = SimCLR(model=resnet50x4, optimizer=optimizer_R50x1, scheduler=scheduler_R50x1, args=args)\n",
    "        features.append(simclr.train(train_loader))\n",
    "        ##\n",
    "        simclr = SimCLR(model=resnet50x1_FT, optimizer=optimizer_R50x1_FT, scheduler=scheduler_R50x1_FT, args=args)\n",
    "        features.append(simclr.train(train_loader))"
   ]
  },
  {
   "cell_type": "code",
   "execution_count": 115,
   "id": "24dc23e4",
   "metadata": {},
   "outputs": [],
   "source": [
    "colors = ['blue','orange','green','red','purple','brown','pink','gray','olive','cyan']\n",
    "pca = PCA(n_components=3)\n",
    "PCAs = []\n",
    "infolosses = []"
   ]
  },
  {
   "cell_type": "code",
   "execution_count": 116,
   "id": "65558ca1",
   "metadata": {},
   "outputs": [],
   "source": [
    "for model_features in features:\n",
    "    pca = PCA(n_components=3)\n",
    "    temp_pca = pca.fit_transform(model_features)\n",
    "    PCAs.append(temp_pca)\n",
    "    infolosses.append(pca.explained_variance_ratio_)"
   ]
  },
  {
   "cell_type": "code",
   "execution_count": 117,
   "id": "30601331",
   "metadata": {},
   "outputs": [
    {
     "data": {
      "image/png": "[encoded data removed]",
      "text/plain": [
       "<Figure size 432x288 with 1 Axes>"
      ]
     },
     "metadata": {
      "needs_background": "light"
     },
     "output_type": "display_data"
    }
   ],
   "source": [
    "labels = ['Resnet18', 'Resnet50x1', 'Resnet50x4', 'Resnet50x1 Fine Tuned']\n",
    "width = 0.35\n",
    "\n",
    "pca1 = [x[0] for x in  infolosses]\n",
    "pca2 = [x[1] for x in  infolosses]\n",
    "pca3 = [x[2] for x in  infolosses]\n",
    "\n",
    "infoloss = [1-sum(pca1),1-sum(pca2),1-sum(pca3)]\n",
    "\n",
    "\n",
    "fig, ax = plt.subplots()\n",
    "#ax.bar(labels, infoloss, width, label='Information loss')\n",
    "ax.bar(labels, pca1, width,label='1st PC')\n",
    "ax.bar(labels, pca2, width, label='2nd PC')\n",
    "ax.bar(labels, pca3, width, label='3rd PC')\n",
    "\n",
    "\n",
    "ax.set_ylabel('Explained Variance')\n",
    "ax.set_title('Principal Components Information Loss')\n",
    "ax.legend()\n",
    "\n",
    "plt.show()\n",
    "fig.savefig('temp.png', dpi=fig.dpi)"
   ]
  },
  {
   "cell_type": "code",
   "execution_count": 118,
   "id": "44473062",
   "metadata": {},
   "outputs": [
    {
     "data": {
      "text/plain": [
       "[0.046787452, 0.111874685, 0.16140918, 0.2078158]"
      ]
     },
     "execution_count": 118,
     "metadata": {},
     "output_type": "execute_result"
    }
   ],
   "source": [
    "pca1"
   ]
  },
  {
   "cell_type": "code",
   "execution_count": 119,
   "id": "b32dbed1",
   "metadata": {},
   "outputs": [
    {
     "data": {
      "text/plain": [
       "[0.037336126, 0.07056011, 0.069925316, 0.03307657]"
      ]
     },
     "execution_count": 119,
     "metadata": {},
     "output_type": "execute_result"
    }
   ],
   "source": [
    "pca2"
   ]
  },
  {
   "cell_type": "code",
   "execution_count": 120,
   "id": "d748df0d",
   "metadata": {},
   "outputs": [
    {
     "data": {
      "text/plain": [
       "[0.03313176, 0.0370309, 0.05036166, 0.02817499]"
      ]
     },
     "execution_count": 120,
     "metadata": {},
     "output_type": "execute_result"
    }
   ],
   "source": [
    "pca3"
   ]
  },
  {
   "cell_type": "code",
   "execution_count": null,
   "id": "91ce7e75",
   "metadata": {},
   "outputs": [],
   "source": []
  }
 ],
 "metadata": {
  "kernelspec": {
   "display_name": "Python 3 (ipykernel)",
   "language": "python",
   "name": "python3"
  },
  "language_info": {
   "codemirror_mode": {
    "name": "ipython",
    "version": 3
   },
   "file_extension": ".py",
   "mimetype": "text/x-python",
   "name": "python",
   "nbconvert_exporter": "python",
   "pygments_lexer": "ipython3",
   "version": "3.9.7"
  }
 },
 "nbformat": 4,
 "nbformat_minor": 5
}
